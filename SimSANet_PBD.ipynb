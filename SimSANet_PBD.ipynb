{
  "metadata": {
    "colab": {
      "provenance": [],
      "gpuType": "T4"
    },
    "kernelspec": {
      "name": "python3",
      "display_name": "Python 3",
      "language": "python"
    },
    "language_info": {
      "name": "python",
      "version": "3.10.13",
      "mimetype": "text/x-python",
      "codemirror_mode": {
        "name": "ipython",
        "version": 3
      },
      "pygments_lexer": "ipython3",
      "nbconvert_exporter": "python",
      "file_extension": ".py"
    },
    "accelerator": "GPU",
    "kaggle": {
      "accelerator": "gpu",
      "dataSources": [
        {
          "sourceId": 7443319,
          "sourceType": "datasetVersion",
          "datasetId": 4332470
        },
        {
          "sourceId": 9138545,
          "sourceType": "datasetVersion",
          "datasetId": 5519001
        }
      ],
      "dockerImageVersionId": 30747,
      "isInternetEnabled": true,
      "language": "python",
      "sourceType": "notebook",
      "isGpuEnabled": true
    }
  },
  "nbformat_minor": 0,
  "nbformat": 4,
  "cells": [
    {
      "cell_type": "code",
      "source": [
        "train_dir = \"/kaggle/input/poribohon-15/prbhn/train\"\n",
        "test_dir = \"/kaggle/input/poribohon-15/prbhn/test\""
      ],
      "metadata": {
        "id": "Z9CkzTAjG59r",
        "execution": {
          "iopub.status.busy": "2024-08-15T14:37:22.352391Z",
          "iopub.execute_input": "2024-08-15T14:37:22.353016Z",
          "iopub.status.idle": "2024-08-15T14:37:22.364578Z",
          "shell.execute_reply.started": "2024-08-15T14:37:22.352988Z",
          "shell.execute_reply": "2024-08-15T14:37:22.363756Z"
        },
        "trusted": true
      },
      "execution_count": null,
      "outputs": []
    },
    {
      "cell_type": "code",
      "source": [
        "import os\n",
        "import numpy as np\n",
        "import matplotlib.pyplot as plt\n",
        "from sklearn.metrics import classification_report, confusion_matrix\n",
        "import tensorflow as tf\n",
        "from tensorflow.keras.preprocessing.image import ImageDataGenerator\n",
        "\n",
        "from tensorflow.keras.layers import Dense, GlobalAveragePooling2D, Flatten, Dropout, InputLayer, BatchNormalization, Flatten, Dense, Activation, MaxPool2D, Conv2D\n",
        "from tensorflow.keras.models import Model\n",
        "from tensorflow.keras.optimizers import Adam\n",
        "\n",
        "from keras.callbacks import EarlyStopping, ReduceLROnPlateau, ModelCheckpoint, Callback\n",
        "from keras import regularizers\n",
        "from keras import backend as K"
      ],
      "metadata": {
        "id": "LqDAn_1PMirg",
        "outputId": "7d4e43ee-b635-4601-b84d-f96b386ab07f",
        "execution": {
          "iopub.status.busy": "2024-08-15T14:37:23.385141Z",
          "iopub.execute_input": "2024-08-15T14:37:23.385804Z",
          "iopub.status.idle": "2024-08-15T14:37:35.822327Z",
          "shell.execute_reply.started": "2024-08-15T14:37:23.385773Z",
          "shell.execute_reply": "2024-08-15T14:37:35.821495Z"
        },
        "trusted": true
      },
      "execution_count": null,
      "outputs": [
        {
          "name": "stderr",
          "text": "2024-08-15 14:37:25.635619: E external/local_xla/xla/stream_executor/cuda/cuda_dnn.cc:9261] Unable to register cuDNN factory: Attempting to register factory for plugin cuDNN when one has already been registered\n2024-08-15 14:37:25.635733: E external/local_xla/xla/stream_executor/cuda/cuda_fft.cc:607] Unable to register cuFFT factory: Attempting to register factory for plugin cuFFT when one has already been registered\n2024-08-15 14:37:25.762901: E external/local_xla/xla/stream_executor/cuda/cuda_blas.cc:1515] Unable to register cuBLAS factory: Attempting to register factory for plugin cuBLAS when one has already been registered\n",
          "output_type": "stream"
        }
      ]
    },
    {
      "cell_type": "code",
      "source": [
        "img_width, img_height = 400, 400\n",
        "batch_size = 16\n",
        "epochs = 25\n",
        "num_classes = 15"
      ],
      "metadata": {
        "id": "hH0SAjDmKY09",
        "execution": {
          "iopub.status.busy": "2024-08-15T14:37:35.823871Z",
          "iopub.execute_input": "2024-08-15T14:37:35.824376Z",
          "iopub.status.idle": "2024-08-15T14:37:35.830569Z",
          "shell.execute_reply.started": "2024-08-15T14:37:35.824352Z",
          "shell.execute_reply": "2024-08-15T14:37:35.829736Z"
        },
        "trusted": true
      },
      "execution_count": null,
      "outputs": []
    },
    {
      "cell_type": "code",
      "source": [
        "train_datagen = ImageDataGenerator( rescale=1./255, rotation_range=25, width_shift_range=0.25,\n",
        "                                   height_shift_range=0.25, shear_range=0.25, zoom_range=0.25,\n",
        "                                   horizontal_flip=True, fill_mode='nearest' )\n",
        "\n",
        "test_datagen = ImageDataGenerator(rescale=1.0 / 255)\n",
        "\n",
        "train_generator = train_datagen.flow_from_directory( train_dir,\n",
        "                                                    target_size=(img_width, img_height),\n",
        "                                                    batch_size=batch_size, class_mode='categorical',\n",
        "                                                    shuffle=True)\n",
        "\n",
        "test_generator = test_datagen.flow_from_directory( test_dir,\n",
        "                                                  target_size=(img_width, img_height),\n",
        "                                                  batch_size=batch_size, class_mode='categorical',\n",
        "                                                  shuffle=False )"
      ],
      "metadata": {
        "execution": {
          "iopub.status.busy": "2024-08-15T14:37:35.831538Z",
          "iopub.execute_input": "2024-08-15T14:37:35.832074Z",
          "iopub.status.idle": "2024-08-15T14:37:37.465425Z",
          "shell.execute_reply.started": "2024-08-15T14:37:35.832031Z",
          "shell.execute_reply": "2024-08-15T14:37:37.464709Z"
        },
        "trusted": true,
        "id": "7l_-q8ERvstc",
        "outputId": "373a933a-7c52-4816-970a-3bef1c81a05a"
      },
      "execution_count": null,
      "outputs": [
        {
          "name": "stdout",
          "text": "Found 5693 images belonging to 15 classes.\nFound 2443 images belonging to 15 classes.\n",
          "output_type": "stream"
        }
      ]
    },
    {
      "cell_type": "code",
      "source": [
        "import tensorflow as tf\n",
        "from tensorflow.keras import layers, Model\n",
        "\n",
        "from tensorflow.keras.layers import *"
      ],
      "metadata": {
        "id": "Upd4zQZDKd5f",
        "execution": {
          "iopub.status.busy": "2024-08-15T14:37:37.467683Z",
          "iopub.execute_input": "2024-08-15T14:37:37.467988Z",
          "iopub.status.idle": "2024-08-15T14:37:37.474822Z",
          "shell.execute_reply.started": "2024-08-15T14:37:37.467965Z",
          "shell.execute_reply": "2024-08-15T14:37:37.471469Z"
        },
        "trusted": true
      },
      "execution_count": null,
      "outputs": []
    },
    {
      "cell_type": "code",
      "source": [
        "num_heads = 5\n",
        "reduction_ratio = 8\n",
        "dropout_rate = 0.02\n",
        "l2_reg = 0.001\n",
        "simam_lambda = 0.0001"
      ],
      "metadata": {
        "id": "Nb7UM4o0Mirk",
        "execution": {
          "iopub.status.busy": "2024-08-15T14:37:37.476172Z",
          "iopub.execute_input": "2024-08-15T14:37:37.476852Z",
          "iopub.status.idle": "2024-08-15T14:37:37.546064Z",
          "shell.execute_reply.started": "2024-08-15T14:37:37.476824Z",
          "shell.execute_reply": "2024-08-15T14:37:37.545241Z"
        },
        "trusted": true
      },
      "execution_count": null,
      "outputs": []
    },
    {
      "cell_type": "code",
      "source": [
        "\n",
        "class SimAM(tf.keras.layers.Layer):\n",
        "    def __init__(self, eps=0.0001, activation=tf.nn.sigmoid, trainable=True, name=None, **kwargs):\n",
        "        super(SimAM, self).__init__(name=name, trainable=trainable, **kwargs)\n",
        "        self.activation = activation\n",
        "        self.eps = eps\n",
        "\n",
        "    def build(self, input_shape):\n",
        "        self.height, self.width, self.channels = input_shape[1], input_shape[2], input_shape[3]\n",
        "        self.norm = 4. / (self.height * self.width - 1)\n",
        "        super().build(input_shape)\n",
        "\n",
        "    def call(self, inputs, **kwargs):\n",
        "        minus_mu_square = tf.square(inputs - tf.reduce_mean(inputs, axis=(1, 2), keepdims=True))\n",
        "        out = minus_mu_square / tf.maximum(\n",
        "            tf.reduce_sum(minus_mu_square, axis=(1, 2), keepdims=True) * self.norm,\n",
        "            self.eps) + 0.5\n",
        "        return inputs * self.activation(out)"
      ],
      "metadata": {
        "id": "vxdTgDJfMirl",
        "execution": {
          "iopub.status.busy": "2024-08-15T14:37:37.547170Z",
          "iopub.execute_input": "2024-08-15T14:37:37.547466Z",
          "iopub.status.idle": "2024-08-15T14:37:37.556791Z",
          "shell.execute_reply.started": "2024-08-15T14:37:37.547442Z",
          "shell.execute_reply": "2024-08-15T14:37:37.555940Z"
        },
        "trusted": true
      },
      "execution_count": null,
      "outputs": []
    },
    {
      "cell_type": "code",
      "source": [
        "class CSA(layers.Layer):\n",
        "    def __init__(self, num_heads, channels, dropout_rate=0.02,l2_reg=0.001, **kwargs):\n",
        "        super(CSA, self).__init__(**kwargs)\n",
        "        self.num_heads = num_heads\n",
        "        self.head_channels = channels // num_heads\n",
        "        self.heads = []\n",
        "\n",
        "        for _ in range(num_heads):\n",
        "            self.heads.append(self.build_SA_block(channels=self.head_channels,\n",
        "                                                              dropout_rate=dropout_rate,\n",
        "                                                              l2_reg=l2_reg))\n",
        "\n",
        "        self.simam = SimAM(eps=0.0001, activation=tf.nn.sigmoid)\n",
        "        self.dropout = layers.Dropout(dropout_rate)\n",
        "        self.batch_norm = layers.BatchNormalization()\n",
        "\n",
        "    def build_SA_block(self, channels, dropout_rate, l2_reg):\n",
        "        input_tensor = tf.keras.Input(shape=(6, 6, channels))\n",
        "\n",
        "        # Channel-wise attention Global features\n",
        "        input_channels = channels\n",
        "\n",
        "        conv_before_attention0 = DepthwiseConv2D(kernel_size=(1, 1), activation='sigmoid',\n",
        "                                        depthwise_initializer='he_normal',\n",
        "                                       depthwise_regularizer=tf.keras.regularizers.l2(l2_reg),\n",
        "                                        padding='same')(input_tensor)\n",
        "\n",
        "        conv_before_attention1 = DepthwiseConv2D(kernel_size=(1, 2), activation='sigmoid',\n",
        "                                        depthwise_initializer='he_normal',\n",
        "                                       depthwise_regularizer=tf.keras.regularizers.l2(l2_reg),\n",
        "                                        padding='same')(conv_before_attention0)\n",
        "\n",
        "        conv_before_attention2 = DepthwiseConv2D(kernel_size=(2, 1), activation='sigmoid',\n",
        "                                        depthwise_initializer='he_normal',\n",
        "                                       depthwise_regularizer=tf.keras.regularizers.l2(l2_reg),\n",
        "                                        padding='same')(conv_before_attention0)\n",
        "\n",
        "        conv_before_attention3 = Multiply()([conv_before_attention1, conv_before_attention2])\n",
        "\n",
        "        conv_before_attention4 = DepthwiseConv2D(kernel_size=(1, 3), activation='sigmoid',\n",
        "                                        depthwise_initializer='he_normal',\n",
        "                                       depthwise_regularizer=tf.keras.regularizers.l2(l2_reg),\n",
        "                                        padding='same')(conv_before_attention3)\n",
        "\n",
        "        conv_before_attention5 = DepthwiseConv2D(kernel_size=(3, 1), activation='sigmoid',\n",
        "                                        depthwise_initializer='he_normal',\n",
        "                                       depthwise_regularizer=tf.keras.regularizers.l2(l2_reg),\n",
        "                                        padding='same')(conv_before_attention3)\n",
        "\n",
        "        conv_before_attention6 = Multiply()([conv_before_attention4, conv_before_attention5])\n",
        "\n",
        "        conv_before_attention7 = DepthwiseConv2D(kernel_size=(1, 4), activation='sigmoid',\n",
        "                                        depthwise_initializer='he_normal',\n",
        "                                       depthwise_regularizer=tf.keras.regularizers.l2(l2_reg),\n",
        "                                        padding='same')(conv_before_attention6)\n",
        "\n",
        "        conv_before_attention8 = DepthwiseConv2D(kernel_size=(4, 1), activation='sigmoid',\n",
        "                                        depthwise_initializer='he_normal',\n",
        "                                       depthwise_regularizer=tf.keras.regularizers.l2(l2_reg),\n",
        "                                        padding='same')(conv_before_attention6)\n",
        "\n",
        "        conv_before_attention9 = Multiply()([conv_before_attention7, conv_before_attention8])\n",
        "\n",
        "        conv_before_attention10 = DepthwiseConv2D(kernel_size=(1, 5), activation='sigmoid',\n",
        "                                        depthwise_initializer='he_normal',\n",
        "                                       depthwise_regularizer=tf.keras.regularizers.l2(l2_reg),\n",
        "                                        padding='same')(conv_before_attention9)\n",
        "\n",
        "        conv_before_attention11 = DepthwiseConv2D(kernel_size=(5, 1), activation='sigmoid',\n",
        "                                        depthwise_initializer='he_normal',\n",
        "                                       depthwise_regularizer=tf.keras.regularizers.l2(l2_reg),\n",
        "                                        padding='same')(conv_before_attention9)\n",
        "\n",
        "        conv_before_attention12 = Multiply()([conv_before_attention10, conv_before_attention11])\n",
        "\n",
        "        conv_before_attention12 = Dropout(dropout_rate)(conv_before_attention12)\n",
        "\n",
        "        avg_pool = GlobalAveragePooling2D()(conv_before_attention12)\n",
        "        max_pool = GlobalMaxPooling2D()(conv_before_attention12)\n",
        "        concat = Concatenate()([avg_pool, max_pool])\n",
        "\n",
        "        sequential_attention = Reshape((1, 1, concat.shape[-1]))(concat)\n",
        "        sequential_attention = Lambda(lambda x: tf.keras.backend.repeat_elements(x, rep=6, axis=1))(sequential_attention)\n",
        "        sequential_attention = Lambda(lambda x: tf.keras.backend.repeat_elements(x, rep=6, axis=2))(sequential_attention)\n",
        "\n",
        "        sequential_attention0 = DepthwiseConv2D(kernel_size=(1, 1), activation='sigmoid',\n",
        "                                       depthwise_initializer='he_normal',\n",
        "                                       depthwise_regularizer=tf.keras.regularizers.l2(l2_reg),\n",
        "                                       padding='same')(sequential_attention)\n",
        "\n",
        "        sequential_attention1 = DepthwiseConv2D(kernel_size=(1, 2), activation='sigmoid',\n",
        "                                        depthwise_initializer='he_normal',\n",
        "                                        depthwise_regularizer=tf.keras.regularizers.l2(l2_reg),\n",
        "                                        padding='same')(sequential_attention0)\n",
        "\n",
        "        sequential_attention2 = DepthwiseConv2D(kernel_size=(2, 1), activation='sigmoid',\n",
        "                                        depthwise_initializer='he_normal',\n",
        "                                        depthwise_regularizer=tf.keras.regularizers.l2(l2_reg),\n",
        "                                        padding='same')(sequential_attention0)\n",
        "\n",
        "        sequential_attention3 = Multiply()([sequential_attention1, sequential_attention2])\n",
        "\n",
        "        sequential_attention4 = DepthwiseConv2D(kernel_size=(1, 3), activation='sigmoid',\n",
        "                                        depthwise_initializer='he_normal',\n",
        "                                        depthwise_regularizer=tf.keras.regularizers.l2(l2_reg),\n",
        "                                        padding='same')(sequential_attention3)\n",
        "\n",
        "        sequential_attention5 = DepthwiseConv2D(kernel_size=(3, 1), activation='sigmoid',\n",
        "                                        depthwise_initializer='he_normal',\n",
        "                                        depthwise_regularizer=tf.keras.regularizers.l2(l2_reg),\n",
        "                                        padding='same')(sequential_attention3)\n",
        "\n",
        "        sequential_attention6 = Multiply()([sequential_attention4, sequential_attention5])\n",
        "\n",
        "        sequential_attention7 = DepthwiseConv2D(kernel_size=(1, 4), activation='sigmoid',\n",
        "                                        depthwise_initializer='he_normal',\n",
        "                                        depthwise_regularizer=tf.keras.regularizers.l2(l2_reg),\n",
        "                                        padding='same')(sequential_attention6)\n",
        "\n",
        "        sequential_attention8 = DepthwiseConv2D(kernel_size=(4, 1), activation='sigmoid',\n",
        "                                        depthwise_initializer='he_normal',\n",
        "                                        depthwise_regularizer=tf.keras.regularizers.l2(l2_reg),\n",
        "                                        padding='same')(sequential_attention6)\n",
        "\n",
        "        sequential_attention9 = Multiply()([sequential_attention7, sequential_attention8])\n",
        "\n",
        "        sequential_attention10 = DepthwiseConv2D(kernel_size=(1, 5), activation='sigmoid',\n",
        "                                        depthwise_initializer='he_normal',\n",
        "                                        depthwise_regularizer=tf.keras.regularizers.l2(l2_reg),\n",
        "                                        padding='same')(sequential_attention9)\n",
        "\n",
        "        sequential_attention11 = DepthwiseConv2D(kernel_size=(5, 1), activation='sigmoid',\n",
        "                                        depthwise_initializer='he_normal',\n",
        "                                        depthwise_regularizer=tf.keras.regularizers.l2(l2_reg),\n",
        "                                        padding='same')(sequential_attention9)\n",
        "\n",
        "        sequential_attention12 = Multiply()([sequential_attention10, sequential_attention11])\n",
        "\n",
        "        sequential_attention12 = Dropout(dropout_rate)(sequential_attention12)\n",
        "\n",
        "        sequential_attention13 = Concatenate()([conv_before_attention12, sequential_attention12])\n",
        "\n",
        "        # Row-wise attention\n",
        "        row_attention0 = DepthwiseConv2D(kernel_size=(1, 1), activation='sigmoid',\n",
        "                               depthwise_initializer='he_normal', depthwise_regularizer=regularizers.l2(l2_reg),\n",
        "                               padding='same')(conv_before_attention12)\n",
        "\n",
        "        row_attention1 = DepthwiseConv2D(kernel_size=(1, 2), activation='sigmoid',\n",
        "                               depthwise_initializer='he_normal', depthwise_regularizer=regularizers.l2(l2_reg),\n",
        "                               padding='same')(row_attention0)\n",
        "\n",
        "        row_attention2 = DepthwiseConv2D(kernel_size=(1, 3), activation='sigmoid',\n",
        "                               depthwise_initializer='he_normal', depthwise_regularizer=regularizers.l2(l2_reg),\n",
        "                               padding='same')(row_attention1)\n",
        "\n",
        "        row_attention3 = DepthwiseConv2D(kernel_size=(1, 4), activation='sigmoid',\n",
        "                               depthwise_initializer='he_normal', depthwise_regularizer=regularizers.l2(l2_reg),\n",
        "                               padding='same')(row_attention2)\n",
        "\n",
        "        row_attention4 = DepthwiseConv2D(kernel_size=(1, 5), activation='sigmoid',\n",
        "                               depthwise_initializer='he_normal', depthwise_regularizer=regularizers.l2(l2_reg),\n",
        "                               padding='same')(row_attention3)\n",
        "\n",
        "        row_attention4 = Dropout(dropout_rate)(row_attention4)\n",
        "\n",
        "        row_attention5 = Concatenate()([sequential_attention13, row_attention4])\n",
        "\n",
        "        # Column-wise attention\n",
        "        col_attention0 = DepthwiseConv2D(kernel_size=(1, 1), activation='sigmoid',\n",
        "                               depthwise_initializer='he_normal', depthwise_regularizer=regularizers.l2(l2_reg),\n",
        "                               padding='same')(conv_before_attention12)\n",
        "\n",
        "        col_attention1 = DepthwiseConv2D(kernel_size=(2, 1), activation='sigmoid',\n",
        "                               depthwise_initializer='he_normal', depthwise_regularizer=regularizers.l2(l2_reg),\n",
        "                               padding='same')(col_attention0)\n",
        "\n",
        "        col_attention2 = DepthwiseConv2D(kernel_size=(3, 1), activation='sigmoid',\n",
        "                               depthwise_initializer='he_normal', depthwise_regularizer=regularizers.l2(l2_reg),\n",
        "                               padding='same')(col_attention1)\n",
        "\n",
        "        col_attention3 = DepthwiseConv2D(kernel_size=(4, 1), activation='sigmoid',\n",
        "                               depthwise_initializer='he_normal', depthwise_regularizer=regularizers.l2(l2_reg),\n",
        "                               padding='same')(col_attention2)\n",
        "\n",
        "        col_attention4 = DepthwiseConv2D(kernel_size=(5, 1), activation='sigmoid',\n",
        "                               depthwise_initializer='he_normal', depthwise_regularizer=regularizers.l2(l2_reg),\n",
        "                               padding='same')(col_attention3)\n",
        "\n",
        "        col_attention4 = Dropout(dropout_rate)(col_attention4)\n",
        "\n",
        "        col_attention5 = Concatenate()([sequential_attention13, col_attention4])\n",
        "\n",
        "        # Combine row and column attentions\n",
        "        sequential_attention14 = Multiply()([row_attention5, col_attention5])\n",
        "        sequential_attention14 = Dropout(dropout_rate)(sequential_attention14)\n",
        "\n",
        "        conv_after_attention0 = DepthwiseConv2D( kernel_size=(1, 1), activation='sigmoid',\n",
        "                                            depthwise_initializer='he_normal',\n",
        "                                              depthwise_regularizer=tf.keras.regularizers.l2(l2_reg),\n",
        "                                            padding='same')(sequential_attention14)\n",
        "\n",
        "        conv_after_attention1 = DepthwiseConv2D( kernel_size=(1, 2), activation='sigmoid',\n",
        "                                            depthwise_initializer='he_normal',\n",
        "                                              depthwise_regularizer=tf.keras.regularizers.l2(l2_reg),\n",
        "                                            padding='same')(conv_after_attention0)\n",
        "\n",
        "        conv_after_attention2 = DepthwiseConv2D( kernel_size=(2, 1), activation='sigmoid',\n",
        "                                            depthwise_initializer='he_normal',\n",
        "                                              depthwise_regularizer=tf.keras.regularizers.l2(l2_reg),\n",
        "                                            padding='same')(conv_after_attention0)\n",
        "\n",
        "        conv_after_attention3 = Multiply()([conv_after_attention1, conv_after_attention2])\n",
        "\n",
        "        conv_after_attention4 = DepthwiseConv2D( kernel_size=(1, 3), activation='sigmoid',\n",
        "                                            depthwise_initializer='he_normal',\n",
        "                                              depthwise_regularizer=tf.keras.regularizers.l2(l2_reg),\n",
        "                                            padding='same')(conv_after_attention3)\n",
        "\n",
        "        conv_after_attention5 = DepthwiseConv2D( kernel_size=(3, 1), activation='sigmoid',\n",
        "                                            depthwise_initializer='he_normal',\n",
        "                                              depthwise_regularizer=tf.keras.regularizers.l2(l2_reg),\n",
        "                                            padding='same')(conv_after_attention3)\n",
        "\n",
        "        conv_after_attention6 = Multiply()([conv_after_attention4, conv_after_attention5])\n",
        "\n",
        "        conv_after_attention7 = DepthwiseConv2D( kernel_size=(1, 4), activation='sigmoid',\n",
        "                                            depthwise_initializer='he_normal',\n",
        "                                              depthwise_regularizer=tf.keras.regularizers.l2(l2_reg),\n",
        "                                            padding='same')(conv_after_attention6)\n",
        "\n",
        "        conv_after_attention8 = DepthwiseConv2D( kernel_size=(4, 1), activation='sigmoid',\n",
        "                                            depthwise_initializer='he_normal',\n",
        "                                              depthwise_regularizer=tf.keras.regularizers.l2(l2_reg),\n",
        "                                            padding='same')(conv_after_attention6)\n",
        "\n",
        "        conv_after_attention9 = Multiply()([conv_after_attention7, conv_after_attention8])\n",
        "\n",
        "        conv_after_attention10 = DepthwiseConv2D( kernel_size=(1, 5), activation='sigmoid',\n",
        "                                            depthwise_initializer='he_normal',\n",
        "                                              depthwise_regularizer=tf.keras.regularizers.l2(l2_reg),\n",
        "                                            padding='same')(conv_after_attention9)\n",
        "\n",
        "        conv_after_attention11 = DepthwiseConv2D( kernel_size=(5, 1), activation='sigmoid',\n",
        "                                            depthwise_initializer='he_normal',\n",
        "                                              depthwise_regularizer=tf.keras.regularizers.l2(l2_reg),\n",
        "                                            padding='same')(conv_after_attention9)\n",
        "\n",
        "        conv_after_attention12 = Multiply()([conv_after_attention10,\n",
        "                                                     conv_after_attention11])\n",
        "\n",
        "        conv_after_attention12 = Dropout(dropout_rate)(conv_after_attention12)\n",
        "\n",
        "        conv_after_attention12 = Concatenate()([conv_before_attention12, conv_after_attention12])\n",
        "\n",
        "        # Channel-wise attention local features\n",
        "        sequential_attention15 = DepthwiseConv2D(kernel_size=(1, 1), activation='sigmoid',\n",
        "                                       depthwise_initializer='he_normal',\n",
        "                                       depthwise_regularizer=tf.keras.regularizers.l2(l2_reg),\n",
        "                                       padding='same')(conv_after_attention12)\n",
        "\n",
        "        sequential_attention16 = DepthwiseConv2D(kernel_size=(1, 2), activation='sigmoid',\n",
        "                                        depthwise_initializer='he_normal',\n",
        "                                        depthwise_regularizer=tf.keras.regularizers.l2(l2_reg),\n",
        "                                        padding='same')(sequential_attention15)\n",
        "\n",
        "        sequential_attention17 = DepthwiseConv2D(kernel_size=(2, 1), activation='sigmoid',\n",
        "                                        depthwise_initializer='he_normal',\n",
        "                                        depthwise_regularizer=tf.keras.regularizers.l2(l2_reg),\n",
        "                                        padding='same')(sequential_attention15)\n",
        "\n",
        "        sequential_attention18 = Multiply()([sequential_attention16, sequential_attention17])\n",
        "\n",
        "        sequential_attention19 = DepthwiseConv2D(kernel_size=(1, 3), activation='sigmoid',\n",
        "                                        depthwise_initializer='he_normal',\n",
        "                                        depthwise_regularizer=tf.keras.regularizers.l2(l2_reg),\n",
        "                                        padding='same')(sequential_attention18)\n",
        "\n",
        "        sequential_attention20 = DepthwiseConv2D(kernel_size=(3, 1), activation='sigmoid',\n",
        "                                        depthwise_initializer='he_normal',\n",
        "                                        depthwise_regularizer=tf.keras.regularizers.l2(l2_reg),\n",
        "                                        padding='same')(sequential_attention18)\n",
        "\n",
        "        sequential_attention21 = Multiply()([sequential_attention19, sequential_attention20])\n",
        "\n",
        "        sequential_attention22 = DepthwiseConv2D(kernel_size=(1, 4), activation='sigmoid',\n",
        "                                        depthwise_initializer='he_normal',\n",
        "                                        depthwise_regularizer=tf.keras.regularizers.l2(l2_reg),\n",
        "                                        padding='same')(sequential_attention21)\n",
        "\n",
        "        sequential_attention23 = DepthwiseConv2D(kernel_size=(4, 1), activation='sigmoid',\n",
        "                                        depthwise_initializer='he_normal',\n",
        "                                        depthwise_regularizer=tf.keras.regularizers.l2(l2_reg),\n",
        "                                        padding='same')(sequential_attention22)\n",
        "\n",
        "        sequential_attention24 = Multiply()([sequential_attention22, sequential_attention23])\n",
        "\n",
        "        sequential_attention25 = DepthwiseConv2D(kernel_size=(1, 5), activation='sigmoid',\n",
        "                                        depthwise_initializer='he_normal',\n",
        "                                        depthwise_regularizer=tf.keras.regularizers.l2(l2_reg),\n",
        "                                        padding='same')(sequential_attention24)\n",
        "\n",
        "        sequential_attention26 = DepthwiseConv2D(kernel_size=(5, 1), activation='sigmoid',\n",
        "                                        depthwise_initializer='he_normal',\n",
        "                                        depthwise_regularizer=tf.keras.regularizers.l2(l2_reg),\n",
        "                                        padding='same')(sequential_attention24)\n",
        "\n",
        "        sequential_attention27 = Multiply()([sequential_attention25, sequential_attention26])\n",
        "\n",
        "        sequential_attention27 = Dropout(dropout_rate)(sequential_attention27)\n",
        "\n",
        "        sequential_attention28 = Concatenate()([conv_before_attention12, sequential_attention27])\n",
        "\n",
        "        # Row-wise attention\n",
        "        row_attention6= DepthwiseConv2D(kernel_size=(1, 1), activation='sigmoid',\n",
        "                               depthwise_initializer='he_normal', depthwise_regularizer=regularizers.l2(l2_reg),\n",
        "                               padding='same')(conv_before_attention12)\n",
        "\n",
        "        row_attention7= DepthwiseConv2D(kernel_size=(1, 2), activation='sigmoid',\n",
        "                               depthwise_initializer='he_normal', depthwise_regularizer=regularizers.l2(l2_reg),\n",
        "                               padding='same')(row_attention6)\n",
        "\n",
        "        row_attention8= DepthwiseConv2D(kernel_size=(1, 3), activation='sigmoid',\n",
        "                               depthwise_initializer='he_normal', depthwise_regularizer=regularizers.l2(l2_reg),\n",
        "                               padding='same')(row_attention7)\n",
        "\n",
        "        row_attention9= DepthwiseConv2D(kernel_size=(1, 4), activation='sigmoid',\n",
        "                               depthwise_initializer='he_normal', depthwise_regularizer=regularizers.l2(l2_reg),\n",
        "                               padding='same')(row_attention8)\n",
        "\n",
        "        row_attention10= DepthwiseConv2D(kernel_size=(1, 5), activation='sigmoid',\n",
        "                               depthwise_initializer='he_normal', depthwise_regularizer=regularizers.l2(l2_reg),\n",
        "                               padding='same')(row_attention9)\n",
        "\n",
        "        row_attention10 = Dropout(dropout_rate)(row_attention10)\n",
        "        row_attention11 = Concatenate()([sequential_attention28, row_attention10])\n",
        "\n",
        "        # Column-wise attention\n",
        "        col_attention6= DepthwiseConv2D(kernel_size=(1, 1), activation='sigmoid',\n",
        "                               depthwise_initializer='he_normal', depthwise_regularizer=regularizers.l2(l2_reg),\n",
        "                               padding='same')(conv_before_attention12)\n",
        "\n",
        "        col_attention7= DepthwiseConv2D(kernel_size=(2, 1), activation='sigmoid',\n",
        "                               depthwise_initializer='he_normal', depthwise_regularizer=regularizers.l2(l2_reg),\n",
        "                               padding='same')(col_attention6)\n",
        "\n",
        "        col_attention8= DepthwiseConv2D(kernel_size=(3, 1), activation='sigmoid',\n",
        "                               depthwise_initializer='he_normal', depthwise_regularizer=regularizers.l2(l2_reg),\n",
        "                               padding='same')(col_attention7)\n",
        "\n",
        "        col_attention9= DepthwiseConv2D(kernel_size=(4, 1), activation='sigmoid',\n",
        "                               depthwise_initializer='he_normal', depthwise_regularizer=regularizers.l2(l2_reg),\n",
        "                               padding='same')(col_attention8)\n",
        "\n",
        "        col_attention10= DepthwiseConv2D(kernel_size=(5, 1), activation='sigmoid',\n",
        "                               depthwise_initializer='he_normal', depthwise_regularizer=regularizers.l2(l2_reg),\n",
        "                               padding='same')(col_attention9)\n",
        "\n",
        "        col_attention10= Dropout(dropout_rate)(col_attention10)\n",
        "        col_attention11= Concatenate()([sequential_attention28, col_attention10])\n",
        "\n",
        "        # Combine row and column attentions\n",
        "        sequential_attention29=Multiply()([row_attention11, col_attention11])\n",
        "        sequential_attention29=Dropout(dropout_rate)(sequential_attention29)\n",
        "\n",
        "        conv_after_attention13 = DepthwiseConv2D( kernel_size=(1, 1), activation='sigmoid',\n",
        "                                            depthwise_initializer='he_normal',\n",
        "                                              depthwise_regularizer=tf.keras.regularizers.l2(l2_reg),\n",
        "                                            padding='same')(sequential_attention29)\n",
        "\n",
        "        conv_after_attention14= DepthwiseConv2D( kernel_size=(1, 2), activation='sigmoid',\n",
        "                                            depthwise_initializer='he_normal',\n",
        "                                              depthwise_regularizer=tf.keras.regularizers.l2(l2_reg),\n",
        "                                            padding='same')(conv_after_attention13)\n",
        "\n",
        "        conv_after_attention15= DepthwiseConv2D( kernel_size=(2, 1), activation='sigmoid',\n",
        "                                            depthwise_initializer='he_normal',\n",
        "                                              depthwise_regularizer=tf.keras.regularizers.l2(l2_reg),\n",
        "                                            padding='same')(conv_after_attention13)\n",
        "\n",
        "        conv_after_attention16=Multiply()([conv_after_attention14, conv_after_attention15])\n",
        "\n",
        "        conv_after_attention17= DepthwiseConv2D( kernel_size=(1, 3), activation='sigmoid',\n",
        "                                            depthwise_initializer='he_normal',\n",
        "                                              depthwise_regularizer=tf.keras.regularizers.l2(l2_reg),\n",
        "                                            padding='same')(conv_after_attention16)\n",
        "\n",
        "        conv_after_attention18= DepthwiseConv2D( kernel_size=(3, 1), activation='sigmoid',\n",
        "                                            depthwise_initializer='he_normal',\n",
        "                                              depthwise_regularizer=tf.keras.regularizers.l2(l2_reg),\n",
        "                                            padding='same')(conv_after_attention16)\n",
        "\n",
        "        conv_after_attention19=Multiply()([conv_after_attention17, conv_after_attention18])\n",
        "\n",
        "        conv_after_attention20= DepthwiseConv2D( kernel_size=(1, 4), activation='sigmoid',\n",
        "                                            depthwise_initializer='he_normal',\n",
        "                                              depthwise_regularizer=tf.keras.regularizers.l2(l2_reg),\n",
        "                                            padding='same')(conv_after_attention19)\n",
        "\n",
        "        conv_after_attention21= DepthwiseConv2D( kernel_size=(4, 1), activation='sigmoid',\n",
        "                                            depthwise_initializer='he_normal',\n",
        "                                              depthwise_regularizer=tf.keras.regularizers.l2(l2_reg),\n",
        "                                            padding='same')(conv_after_attention19)\n",
        "\n",
        "        conv_after_attention22=Multiply()([conv_after_attention20, conv_after_attention21])\n",
        "\n",
        "        conv_after_attention23= DepthwiseConv2D( kernel_size=(1, 5), activation='sigmoid',\n",
        "                                            depthwise_initializer='he_normal',\n",
        "                                              depthwise_regularizer=tf.keras.regularizers.l2(l2_reg),\n",
        "                                            padding='same')(conv_after_attention22)\n",
        "\n",
        "        conv_after_attention24= DepthwiseConv2D( kernel_size=(5, 1), activation='sigmoid',\n",
        "                                            depthwise_initializer='he_normal',\n",
        "                                              depthwise_regularizer=tf.keras.regularizers.l2(l2_reg),\n",
        "                                            padding='same')(conv_after_attention23)\n",
        "\n",
        "        conv_after_attention25=Multiply()([conv_after_attention23,\n",
        "                                                   conv_after_attention24])\n",
        "\n",
        "        conv_after_attention25= Dropout(dropout_rate)(conv_after_attention25)\n",
        "\n",
        "        conv_after_attention25 = Concatenate()([conv_before_attention12, conv_after_attention25])\n",
        "\n",
        "        dual_sequential_attention = Concatenate()([conv_after_attention12, conv_after_attention25])\n",
        "\n",
        "        dual_sequential_attention = BatchNormalization()(dual_sequential_attention)\n",
        "        dual_sequential_attention = Dropout(dropout_rate)(dual_sequential_attention)\n",
        "\n",
        "        return tf.keras.Model(inputs=input_tensor, outputs=dual_sequential_attention)\n",
        "\n",
        "    def call(self, inputs):\n",
        "        head_outputs = []\n",
        "\n",
        "        for i in range(self.num_heads):\n",
        "            head_input = inputs[:, :, :, i * self.head_channels:(i + 1) * self.head_channels]\n",
        "            head_output = self.heads[i](head_input)\n",
        "            head_outputs.append(head_output)\n",
        "\n",
        "        cbam_attention = Concatenate()(head_outputs)\n",
        "        simam_attention = self.simam(inputs)\n",
        "\n",
        "        fused_attention = tf.concat([cbam_attention, simam_attention], axis=-1)\n",
        "        fused_attention = self.dropout(fused_attention)\n",
        "        fused_attention = self.batch_norm(fused_attention)\n",
        "\n",
        "        return fused_attention"
      ],
      "metadata": {
        "id": "uGwZBOpEwaQr"
      },
      "execution_count": null,
      "outputs": []
    },
    {
      "cell_type": "code",
      "source": [
        "from tensorflow.keras.layers import Lambda, DepthwiseConv2D, BatchNormalization, Dropout, Reshape, UpSampling2D, Multiply"
      ],
      "metadata": {
        "id": "0mD1W3NTMirr",
        "execution": {
          "iopub.status.busy": "2024-08-15T14:37:37.642929Z",
          "iopub.execute_input": "2024-08-15T14:37:37.643327Z",
          "iopub.status.idle": "2024-08-15T14:37:37.654483Z",
          "shell.execute_reply.started": "2024-08-15T14:37:37.643298Z",
          "shell.execute_reply": "2024-08-15T14:37:37.653728Z"
        },
        "trusted": true
      },
      "execution_count": null,
      "outputs": []
    },
    {
      "cell_type": "code",
      "source": [
        "from tensorflow.keras.applications import DenseNet201\n",
        "\n",
        "base_model = DenseNet201(weights='imagenet', include_top=False, input_shape=(img_width, img_height, 3))\n",
        "x = base_model.output\n",
        "x = BatchNormalization()(x)\n",
        "x = Dropout(0.05)(x)\n",
        "print(x.shape)\n",
        "\n",
        "x = layers.AveragePooling2D(pool_size=2)(x)\n",
        "x = BatchNormalization()(x)\n",
        "x = Dropout(0.05)(x)\n",
        "print(x.shape)\n",
        "\n",
        "x = SeparableConv2D( 512, kernel_size=(5, 5), activation='sigmoid',\n",
        "            depthwise_initializer='he_normal', pointwise_initializer='he_normal',\n",
        "            depthwise_regularizer=tf.keras.regularizers.l2(l2_reg),\n",
        "            pointwise_regularizer=tf.keras.regularizers.l2(l2_reg),\n",
        "            padding='same')(x)\n",
        "x = BatchNormalization()(x)\n",
        "x = Dropout(0.05)(x)\n",
        "print(x.shape)\n",
        "\n",
        "x = CSA(num_heads, 512, dropout_rate, l2_reg)(x)\n",
        "x = BatchNormalization()(x)\n",
        "x = Dropout(0.05)(x)\n",
        "print(\"attention\",x.shape)\n",
        "\n",
        "x = layers.GlobalAveragePooling2D()(x)\n",
        "x = BatchNormalization()(x)\n",
        "x = Dropout(0.05)(x)\n",
        "print(x.shape)\n",
        "\n",
        "preds = Dense(units=15, activation='softmax')(x)\n",
        "model1 = tf.keras.Model(inputs=base_model.input, outputs=preds)"
      ],
      "metadata": {
        "execution": {
          "iopub.status.busy": "2024-08-15T14:37:37.655495Z",
          "iopub.execute_input": "2024-08-15T14:37:37.655813Z",
          "iopub.status.idle": "2024-08-15T14:37:49.977840Z",
          "shell.execute_reply.started": "2024-08-15T14:37:37.655791Z",
          "shell.execute_reply": "2024-08-15T14:37:49.976907Z"
        },
        "trusted": true,
        "id": "p891KsMjvstv",
        "outputId": "1b9d2b44-5472-48f6-83ac-ad6d68c38b4a"
      },
      "execution_count": null,
      "outputs": [
        {
          "name": "stdout",
          "text": "Downloading data from https://storage.googleapis.com/tensorflow/keras-applications/densenet/densenet201_weights_tf_dim_ordering_tf_kernels_notop.h5\n\u001b[1m74836368/74836368\u001b[0m \u001b[32m━━━━━━━━━━━━━━━━━━━━\u001b[0m\u001b[37m\u001b[0m \u001b[1m0s\u001b[0m 0us/step\n(None, 12, 12, 1920)\n(None, 12, 12, 512)\n(None, 12, 12, 102)\n(None, 204)\nca1 (None, 1, 1, 204)\nca2 (None, 12, 1, 204)\nca3 (None, 12, 12, 204)\nafter 1st ca: (None, 12, 12, 510)\nafter 2nd ca: (None, 12, 12, 816)\ncsa (None, 12, 12, 1326)\n(None, 12, 12, 102)\n(None, 204)\nca1 (None, 1, 1, 204)\nca2 (None, 12, 1, 204)\nca3 (None, 12, 12, 204)\nafter 1st ca: (None, 12, 12, 510)\nafter 2nd ca: (None, 12, 12, 816)\ncsa (None, 12, 12, 1326)\n(None, 12, 12, 102)\n(None, 204)\nca1 (None, 1, 1, 204)\nca2 (None, 12, 1, 204)\nca3 (None, 12, 12, 204)\nafter 1st ca: (None, 12, 12, 510)\nafter 2nd ca: (None, 12, 12, 816)\ncsa (None, 12, 12, 1326)\n(None, 12, 12, 102)\n(None, 204)\nca1 (None, 1, 1, 204)\nca2 (None, 12, 1, 204)\nca3 (None, 12, 12, 204)\nafter 1st ca: (None, 12, 12, 510)\nafter 2nd ca: (None, 12, 12, 816)\ncsa (None, 12, 12, 1326)\n(None, 12, 12, 102)\n(None, 204)\nca1 (None, 1, 1, 204)\nca2 (None, 12, 1, 204)\nca3 (None, 12, 12, 204)\nafter 1st ca: (None, 12, 12, 510)\nafter 2nd ca: (None, 12, 12, 816)\ncsa (None, 12, 12, 1326)\nattention (None, 12, 12, 7142)\n(None, 7142)\n",
          "output_type": "stream"
        }
      ]
    },
    {
      "cell_type": "code",
      "source": [
        "for layer in model1.layers:\n",
        "    layer.trainable = True"
      ],
      "metadata": {
        "id": "3vWKQnC2Mirs",
        "execution": {
          "iopub.status.busy": "2024-08-15T14:37:49.981997Z",
          "iopub.execute_input": "2024-08-15T14:37:49.982290Z",
          "iopub.status.idle": "2024-08-15T14:37:49.990994Z",
          "shell.execute_reply.started": "2024-08-15T14:37:49.982266Z",
          "shell.execute_reply": "2024-08-15T14:37:49.990085Z"
        },
        "trusted": true
      },
      "execution_count": null,
      "outputs": []
    },
    {
      "cell_type": "code",
      "source": [
        "model1.compile(optimizer=Adam(learning_rate = 0.0001), loss = 'categorical_crossentropy',\n",
        "              metrics=['accuracy','mse'])\n",
        "\n",
        "checkpoint = ModelCheckpoint('DenseNet201_Modified_MHSimamCBAM_PBD.weights.h5', monitor='val_accuracy',\n",
        "                             save_best_only = True, save_weights_only = True, mode ='max', verbose = 2)\n",
        "\n",
        "early_stop = EarlyStopping(monitor = 'val_accuracy', patience = 8, mode = 'max', verbose = 2)\n",
        "\n",
        "reduce_learning_rate=ReduceLROnPlateau(monitor = \"val_accuracy\", factor = 0.1, patience = 4, verbose = 2)"
      ],
      "metadata": {
        "id": "Va24_hyaMirt",
        "execution": {
          "iopub.status.busy": "2024-08-15T14:37:49.992133Z",
          "iopub.execute_input": "2024-08-15T14:37:49.992997Z",
          "iopub.status.idle": "2024-08-15T14:37:50.016349Z",
          "shell.execute_reply.started": "2024-08-15T14:37:49.992966Z",
          "shell.execute_reply": "2024-08-15T14:37:50.015494Z"
        },
        "trusted": true
      },
      "execution_count": null,
      "outputs": []
    },
    {
      "cell_type": "code",
      "source": [
        "total_params = model1.count_params()\n",
        "print(f\"Total parameters in the model: {total_params}\")"
      ],
      "metadata": {
        "id": "_nhUSUMHMirt",
        "outputId": "52964a03-faf1-42a4-f342-1fceb9a5de5f",
        "execution": {
          "iopub.status.busy": "2024-08-15T14:37:50.017413Z",
          "iopub.execute_input": "2024-08-15T14:37:50.017647Z",
          "iopub.status.idle": "2024-08-15T14:37:50.036441Z",
          "shell.execute_reply.started": "2024-08-15T14:37:50.017627Z",
          "shell.execute_reply": "2024-08-15T14:37:50.035643Z"
        },
        "trusted": true
      },
      "execution_count": null,
      "outputs": [
        {
          "name": "stdout",
          "text": "Total parameters in the model: 19976353\n",
          "output_type": "stream"
        }
      ]
    },
    {
      "cell_type": "code",
      "source": [
        "trainable_params = tf.reduce_sum([tf.reduce_prod(v.shape) for v in model1.trainable_variables])\n",
        "print(f\"Trainable parameters in the model: {trainable_params}\")"
      ],
      "metadata": {
        "id": "n3R1iqMMMiru",
        "outputId": "0a05a951-57bb-4ed3-c6b7-4b24610f082a",
        "execution": {
          "iopub.status.busy": "2024-08-15T14:37:50.037574Z",
          "iopub.execute_input": "2024-08-15T14:37:50.037853Z",
          "iopub.status.idle": "2024-08-15T14:37:50.951659Z",
          "shell.execute_reply.started": "2024-08-15T14:37:50.037831Z",
          "shell.execute_reply": "2024-08-15T14:37:50.950743Z"
        },
        "trusted": true
      },
      "execution_count": null,
      "outputs": [
        {
          "name": "stdout",
          "text": "Trainable parameters in the model: 19686321\n",
          "output_type": "stream"
        }
      ]
    },
    {
      "cell_type": "code",
      "source": [
        "non_trainable_params = tf.reduce_sum([tf.reduce_prod(v.shape) for v in model1.non_trainable_weights])\n",
        "print(f\"Non-trainable parameters in the model: {non_trainable_params}\")"
      ],
      "metadata": {
        "id": "crSMDh4tMirv",
        "outputId": "7a155925-a87f-4bc5-d838-77e7edb152bb",
        "execution": {
          "iopub.status.busy": "2024-08-15T14:37:50.953006Z",
          "iopub.execute_input": "2024-08-15T14:37:50.953618Z",
          "iopub.status.idle": "2024-08-15T14:37:51.247174Z",
          "shell.execute_reply.started": "2024-08-15T14:37:50.953583Z",
          "shell.execute_reply": "2024-08-15T14:37:51.246267Z"
        },
        "trusted": true
      },
      "execution_count": null,
      "outputs": [
        {
          "name": "stdout",
          "text": "Non-trainable parameters in the model: 290032\n",
          "output_type": "stream"
        }
      ]
    },
    {
      "cell_type": "code",
      "source": [
        "import time\n",
        "start_time = time.time()\n",
        "\n",
        "history=model1.fit(train_generator, epochs = 25, validation_data = test_generator,\n",
        "                  callbacks = [checkpoint, early_stop, reduce_learning_rate])\n",
        "\n",
        "end_time = time.time()\n",
        "preprocessing_time = end_time - start_time\n",
        "\n",
        "print(\"Preprocessing completed. Time taken:\", preprocessing_time, \"seconds\")"
      ],
      "metadata": {
        "id": "JXG-Alh0Mirv",
        "outputId": "23d418f0-7be5-4760-d8fe-d992a4354165",
        "execution": {
          "iopub.status.busy": "2024-08-15T14:37:51.248365Z",
          "iopub.execute_input": "2024-08-15T14:37:51.248636Z",
          "iopub.status.idle": "2024-08-15T18:25:59.593067Z",
          "shell.execute_reply.started": "2024-08-15T14:37:51.248615Z",
          "shell.execute_reply": "2024-08-15T18:25:59.592136Z"
        },
        "trusted": true
      },
      "execution_count": null,
      "outputs": [
        {
          "name": "stdout",
          "text": "Epoch 1/25\n",
          "output_type": "stream"
        },
        {
          "name": "stderr",
          "text": "/opt/conda/lib/python3.10/site-packages/keras/src/trainers/data_adapters/py_dataset_adapter.py:121: UserWarning: Your `PyDataset` class should call `super().__init__(**kwargs)` in its constructor. `**kwargs` can include `workers`, `use_multiprocessing`, `max_queue_size`. Do not pass these arguments to `fit()`, as they will be ignored.\n  self._warn_if_super_not_called()\n2024-08-15 14:52:25.459937: E external/local_xla/xla/service/slow_operation_alarm.cc:65] \n********************************\n[Compiling module a_inference_one_step_on_data_282164__.181086] Very slow compile? If you want to file a bug, run with envvar XLA_FLAGS=--xla_dump_to=/tmp/foo and attach the results.\n********************************\n2024-08-15 14:53:47.918492: E external/local_xla/xla/service/slow_operation_alarm.cc:133] The operation took 3m22.458702228s\n\n********************************\n[Compiling module a_inference_one_step_on_data_282164__.181086] Very slow compile? If you want to file a bug, run with envvar XLA_FLAGS=--xla_dump_to=/tmp/foo and attach the results.\n********************************\nWARNING: All log messages before absl::InitializeLog() is called are written to STDERR\nI0000 00:00:1723733627.930076     117 device_compiler.h:186] Compiled cluster using XLA!  This line is logged at most once for the lifetime of the process.\nW0000 00:00:1723733628.526159     117 graph_launch.cc:671] Fallback to op-by-op mode because memset node breaks graph update\n",
          "output_type": "stream"
        },
        {
          "name": "stdout",
          "text": "\u001b[1m158/356\u001b[0m \u001b[32m━━━━━━━━\u001b[0m\u001b[37m━━━━━━━━━━━━\u001b[0m \u001b[1m4:17\u001b[0m 1s/step - accuracy: 0.4840 - loss: 3.2698 - mse: 0.0427",
          "output_type": "stream"
        },
        {
          "name": "stderr",
          "text": "2024-08-15 15:09:11.369733: E external/local_xla/xla/service/slow_operation_alarm.cc:133] The operation took 3m21.631053382s\n\n********************************\n[Compiling module a_inference_one_step_on_data_282164__.181086] Very slow compile? If you want to file a bug, run with envvar XLA_FLAGS=--xla_dump_to=/tmp/foo and attach the results.\n********************************\n",
          "output_type": "stream"
        },
        {
          "name": "stdout",
          "text": "\u001b[1m234/356\u001b[0m \u001b[32m━━━━━━━━━━━━━\u001b[0m\u001b[37m━━━━━━━\u001b[0m \u001b[1m8:53\u001b[0m 4s/step - accuracy: 0.5608 - loss: 2.9584 - mse: 0.0370",
          "output_type": "stream"
        },
        {
          "name": "stderr",
          "text": "/opt/conda/lib/python3.10/site-packages/PIL/Image.py:992: UserWarning: Palette images with Transparency expressed in bytes should be converted to RGBA images\n  warnings.warn(\n",
          "output_type": "stream"
        },
        {
          "name": "stdout",
          "text": "\u001b[1m356/356\u001b[0m \u001b[32m━━━━━━━━━━━━━━━━━━━━\u001b[0m\u001b[37m\u001b[0m \u001b[1m0s\u001b[0m 3s/step - accuracy: 0.6334 - loss: 2.6405 - mse: 0.0315",
          "output_type": "stream"
        },
        {
          "name": "stderr",
          "text": "W0000 00:00:1723734854.683040     119 graph_launch.cc:671] Fallback to op-by-op mode because memset node breaks graph update\n",
          "output_type": "stream"
        },
        {
          "name": "stdout",
          "text": "\nEpoch 1: val_accuracy improved from -inf to 0.75358, saving model to DenseNet201_Modified_MHSimamCBAM_PBD.weights.h5\n\u001b[1m356/356\u001b[0m \u001b[32m━━━━━━━━━━━━━━━━━━━━\u001b[0m\u001b[37m\u001b[0m \u001b[1m2420s\u001b[0m 4s/step - accuracy: 0.6339 - loss: 2.6384 - mse: 0.0315 - val_accuracy: 0.7536 - val_loss: 2.5921 - val_mse: 0.0476 - learning_rate: 1.0000e-04\nEpoch 2/25\n\u001b[1m356/356\u001b[0m \u001b[32m━━━━━━━━━━━━━━━━━━━━\u001b[0m\u001b[37m\u001b[0m \u001b[1m0s\u001b[0m 1s/step - accuracy: 0.9273 - loss: 1.0238 - mse: 0.0072\nEpoch 2: val_accuracy improved from 0.75358 to 0.85673, saving model to DenseNet201_Modified_MHSimamCBAM_PBD.weights.h5\n\u001b[1m356/356\u001b[0m \u001b[32m━━━━━━━━━━━━━━━━━━━━\u001b[0m\u001b[37m\u001b[0m \u001b[1m518s\u001b[0m 1s/step - accuracy: 0.9273 - loss: 1.0235 - mse: 0.0072 - val_accuracy: 0.8567 - val_loss: 1.0721 - val_mse: 0.0141 - learning_rate: 1.0000e-04\nEpoch 3/25\n\u001b[1m356/356\u001b[0m \u001b[32m━━━━━━━━━━━━━━━━━━━━\u001b[0m\u001b[37m\u001b[0m \u001b[1m0s\u001b[0m 1s/step - accuracy: 0.9506 - loss: 0.7145 - mse: 0.0052\nEpoch 3: val_accuracy improved from 0.85673 to 0.90585, saving model to DenseNet201_Modified_MHSimamCBAM_PBD.weights.h5\n\u001b[1m356/356\u001b[0m \u001b[32m━━━━━━━━━━━━━━━━━━━━\u001b[0m\u001b[37m\u001b[0m \u001b[1m500s\u001b[0m 1s/step - accuracy: 0.9506 - loss: 0.7144 - mse: 0.0052 - val_accuracy: 0.9059 - val_loss: 0.8322 - val_mse: 0.0099 - learning_rate: 1.0000e-04\nEpoch 4/25\n\u001b[1m356/356\u001b[0m \u001b[32m━━━━━━━━━━━━━━━━━━━━\u001b[0m\u001b[37m\u001b[0m \u001b[1m0s\u001b[0m 1s/step - accuracy: 0.9596 - loss: 0.5498 - mse: 0.0041\nEpoch 4: val_accuracy did not improve from 0.90585\n\u001b[1m356/356\u001b[0m \u001b[32m━━━━━━━━━━━━━━━━━━━━\u001b[0m\u001b[37m\u001b[0m \u001b[1m534s\u001b[0m 1s/step - accuracy: 0.9596 - loss: 0.5497 - mse: 0.0041 - val_accuracy: 0.8772 - val_loss: 0.8365 - val_mse: 0.0126 - learning_rate: 1.0000e-04\nEpoch 5/25\n\u001b[1m356/356\u001b[0m \u001b[32m━━━━━━━━━━━━━━━━━━━━\u001b[0m\u001b[37m\u001b[0m \u001b[1m0s\u001b[0m 1s/step - accuracy: 0.9644 - loss: 0.4513 - mse: 0.0036\nEpoch 5: val_accuracy did not improve from 0.90585\n\u001b[1m356/356\u001b[0m \u001b[32m━━━━━━━━━━━━━━━━━━━━\u001b[0m\u001b[37m\u001b[0m \u001b[1m521s\u001b[0m 1s/step - accuracy: 0.9644 - loss: 0.4513 - mse: 0.0036 - val_accuracy: 0.8801 - val_loss: 0.8356 - val_mse: 0.0127 - learning_rate: 1.0000e-04\nEpoch 6/25\n\u001b[1m356/356\u001b[0m \u001b[32m━━━━━━━━━━━━━━━━━━━━\u001b[0m\u001b[37m\u001b[0m \u001b[1m0s\u001b[0m 1s/step - accuracy: 0.9714 - loss: 0.3730 - mse: 0.0028\nEpoch 6: val_accuracy did not improve from 0.90585\n\u001b[1m356/356\u001b[0m \u001b[32m━━━━━━━━━━━━━━━━━━━━\u001b[0m\u001b[37m\u001b[0m \u001b[1m502s\u001b[0m 1s/step - accuracy: 0.9714 - loss: 0.3730 - mse: 0.0028 - val_accuracy: 0.8842 - val_loss: 0.7540 - val_mse: 0.0125 - learning_rate: 1.0000e-04\nEpoch 7/25\n\u001b[1m356/356\u001b[0m \u001b[32m━━━━━━━━━━━━━━━━━━━━\u001b[0m\u001b[37m\u001b[0m \u001b[1m0s\u001b[0m 1s/step - accuracy: 0.9636 - loss: 0.3560 - mse: 0.0035\nEpoch 7: val_accuracy did not improve from 0.90585\n\nEpoch 7: ReduceLROnPlateau reducing learning rate to 9.999999747378752e-06.\n\u001b[1m356/356\u001b[0m \u001b[32m━━━━━━━━━━━━━━━━━━━━\u001b[0m\u001b[37m\u001b[0m \u001b[1m520s\u001b[0m 1s/step - accuracy: 0.9636 - loss: 0.3560 - mse: 0.0035 - val_accuracy: 0.8948 - val_loss: 0.6821 - val_mse: 0.0112 - learning_rate: 1.0000e-04\nEpoch 8/25\n\u001b[1m356/356\u001b[0m \u001b[32m━━━━━━━━━━━━━━━━━━━━\u001b[0m\u001b[37m\u001b[0m \u001b[1m0s\u001b[0m 1s/step - accuracy: 0.9754 - loss: 0.2923 - mse: 0.0024\nEpoch 8: val_accuracy improved from 0.90585 to 0.92755, saving model to DenseNet201_Modified_MHSimamCBAM_PBD.weights.h5\n\u001b[1m356/356\u001b[0m \u001b[32m━━━━━━━━━━━━━━━━━━━━\u001b[0m\u001b[37m\u001b[0m \u001b[1m504s\u001b[0m 1s/step - accuracy: 0.9754 - loss: 0.2923 - mse: 0.0024 - val_accuracy: 0.9275 - val_loss: 0.5390 - val_mse: 0.0079 - learning_rate: 1.0000e-05\nEpoch 9/25\n\u001b[1m356/356\u001b[0m \u001b[32m━━━━━━━━━━━━━━━━━━━━\u001b[0m\u001b[37m\u001b[0m \u001b[1m0s\u001b[0m 994ms/step - accuracy: 0.9900 - loss: 0.2522 - mse: 0.0012\nEpoch 9: val_accuracy improved from 0.92755 to 0.93696, saving model to DenseNet201_Modified_MHSimamCBAM_PBD.weights.h5\n\u001b[1m356/356\u001b[0m \u001b[32m━━━━━━━━━━━━━━━━━━━━\u001b[0m\u001b[37m\u001b[0m \u001b[1m505s\u001b[0m 1s/step - accuracy: 0.9900 - loss: 0.2522 - mse: 0.0012 - val_accuracy: 0.9370 - val_loss: 0.5153 - val_mse: 0.0071 - learning_rate: 1.0000e-05\nEpoch 10/25\n\u001b[1m356/356\u001b[0m \u001b[32m━━━━━━━━━━━━━━━━━━━━\u001b[0m\u001b[37m\u001b[0m \u001b[1m0s\u001b[0m 1s/step - accuracy: 0.9926 - loss: 0.2288 - mse: 7.0070e-04\nEpoch 10: val_accuracy did not improve from 0.93696\n\u001b[1m356/356\u001b[0m \u001b[32m━━━━━━━━━━━━━━━━━━━━\u001b[0m\u001b[37m\u001b[0m \u001b[1m511s\u001b[0m 1s/step - accuracy: 0.9926 - loss: 0.2288 - mse: 7.0081e-04 - val_accuracy: 0.9349 - val_loss: 0.4993 - val_mse: 0.0069 - learning_rate: 1.0000e-05\nEpoch 11/25\n\u001b[1m356/356\u001b[0m \u001b[32m━━━━━━━━━━━━━━━━━━━━\u001b[0m\u001b[37m\u001b[0m \u001b[1m0s\u001b[0m 1s/step - accuracy: 0.9937 - loss: 0.2231 - mse: 6.4753e-04\nEpoch 11: val_accuracy did not improve from 0.93696\n\u001b[1m356/356\u001b[0m \u001b[32m━━━━━━━━━━━━━━━━━━━━\u001b[0m\u001b[37m\u001b[0m \u001b[1m493s\u001b[0m 1s/step - accuracy: 0.9937 - loss: 0.2231 - mse: 6.4749e-04 - val_accuracy: 0.9321 - val_loss: 0.5025 - val_mse: 0.0070 - learning_rate: 1.0000e-05\nEpoch 12/25\n\u001b[1m356/356\u001b[0m \u001b[32m━━━━━━━━━━━━━━━━━━━━\u001b[0m\u001b[37m\u001b[0m \u001b[1m0s\u001b[0m 1s/step - accuracy: 0.9944 - loss: 0.2141 - mse: 5.0970e-04\nEpoch 12: val_accuracy did not improve from 0.93696\n\u001b[1m356/356\u001b[0m \u001b[32m━━━━━━━━━━━━━━━━━━━━\u001b[0m\u001b[37m\u001b[0m \u001b[1m540s\u001b[0m 1s/step - accuracy: 0.9944 - loss: 0.2141 - mse: 5.0964e-04 - val_accuracy: 0.9361 - val_loss: 0.4949 - val_mse: 0.0069 - learning_rate: 1.0000e-05\nEpoch 13/25\n\u001b[1m356/356\u001b[0m \u001b[32m━━━━━━━━━━━━━━━━━━━━\u001b[0m\u001b[37m\u001b[0m \u001b[1m0s\u001b[0m 1s/step - accuracy: 0.9955 - loss: 0.2072 - mse: 4.8062e-04\nEpoch 13: val_accuracy improved from 0.93696 to 0.93737, saving model to DenseNet201_Modified_MHSimamCBAM_PBD.weights.h5\n\u001b[1m356/356\u001b[0m \u001b[32m━━━━━━━━━━━━━━━━━━━━\u001b[0m\u001b[37m\u001b[0m \u001b[1m525s\u001b[0m 1s/step - accuracy: 0.9955 - loss: 0.2072 - mse: 4.8055e-04 - val_accuracy: 0.9374 - val_loss: 0.4734 - val_mse: 0.0066 - learning_rate: 1.0000e-05\nEpoch 14/25\n\u001b[1m356/356\u001b[0m \u001b[32m━━━━━━━━━━━━━━━━━━━━\u001b[0m\u001b[37m\u001b[0m \u001b[1m0s\u001b[0m 994ms/step - accuracy: 0.9957 - loss: 0.2023 - mse: 4.4626e-04\nEpoch 14: val_accuracy improved from 0.93737 to 0.94147, saving model to DenseNet201_Modified_MHSimamCBAM_PBD.weights.h5\n\u001b[1m356/356\u001b[0m \u001b[32m━━━━━━━━━━━━━━━━━━━━\u001b[0m\u001b[37m\u001b[0m \u001b[1m498s\u001b[0m 1s/step - accuracy: 0.9957 - loss: 0.2023 - mse: 4.4641e-04 - val_accuracy: 0.9415 - val_loss: 0.4693 - val_mse: 0.0064 - learning_rate: 1.0000e-05\nEpoch 15/25\n\u001b[1m356/356\u001b[0m \u001b[32m━━━━━━━━━━━━━━━━━━━━\u001b[0m\u001b[37m\u001b[0m \u001b[1m0s\u001b[0m 1s/step - accuracy: 0.9945 - loss: 0.2013 - mse: 5.8606e-04\nEpoch 15: val_accuracy improved from 0.94147 to 0.94638, saving model to DenseNet201_Modified_MHSimamCBAM_PBD.weights.h5\n\u001b[1m356/356\u001b[0m \u001b[32m━━━━━━━━━━━━━━━━━━━━\u001b[0m\u001b[37m\u001b[0m \u001b[1m523s\u001b[0m 1s/step - accuracy: 0.9945 - loss: 0.2013 - mse: 5.8555e-04 - val_accuracy: 0.9464 - val_loss: 0.4474 - val_mse: 0.0060 - learning_rate: 1.0000e-05\nEpoch 16/25\n\u001b[1m356/356\u001b[0m \u001b[32m━━━━━━━━━━━━━━━━━━━━\u001b[0m\u001b[37m\u001b[0m \u001b[1m0s\u001b[0m 1s/step - accuracy: 0.9970 - loss: 0.1864 - mse: 2.6558e-04\nEpoch 16: val_accuracy did not improve from 0.94638\n\u001b[1m356/356\u001b[0m \u001b[32m━━━━━━━━━━━━━━━━━━━━\u001b[0m\u001b[37m\u001b[0m \u001b[1m503s\u001b[0m 1s/step - accuracy: 0.9970 - loss: 0.1864 - mse: 2.6573e-04 - val_accuracy: 0.9374 - val_loss: 0.4607 - val_mse: 0.0065 - learning_rate: 1.0000e-05\nEpoch 17/25\n\u001b[1m356/356\u001b[0m \u001b[32m━━━━━━━━━━━━━━━━━━━━\u001b[0m\u001b[37m\u001b[0m \u001b[1m0s\u001b[0m 1s/step - accuracy: 0.9970 - loss: 0.1827 - mse: 3.3923e-04\nEpoch 17: val_accuracy did not improve from 0.94638\n\u001b[1m356/356\u001b[0m \u001b[32m━━━━━━━━━━━━━━━━━━━━\u001b[0m\u001b[37m\u001b[0m \u001b[1m509s\u001b[0m 1s/step - accuracy: 0.9970 - loss: 0.1827 - mse: 3.3921e-04 - val_accuracy: 0.9361 - val_loss: 0.4934 - val_mse: 0.0070 - learning_rate: 1.0000e-05\nEpoch 18/25\n\u001b[1m356/356\u001b[0m \u001b[32m━━━━━━━━━━━━━━━━━━━━\u001b[0m\u001b[37m\u001b[0m \u001b[1m0s\u001b[0m 1s/step - accuracy: 0.9962 - loss: 0.1791 - mse: 4.2798e-04\nEpoch 18: val_accuracy did not improve from 0.94638\n\u001b[1m356/356\u001b[0m \u001b[32m━━━━━━━━━━━━━━━━━━━━\u001b[0m\u001b[37m\u001b[0m \u001b[1m511s\u001b[0m 1s/step - accuracy: 0.9962 - loss: 0.1791 - mse: 4.2790e-04 - val_accuracy: 0.9415 - val_loss: 0.4648 - val_mse: 0.0065 - learning_rate: 1.0000e-05\nEpoch 19/25\n\u001b[1m356/356\u001b[0m \u001b[32m━━━━━━━━━━━━━━━━━━━━\u001b[0m\u001b[37m\u001b[0m \u001b[1m0s\u001b[0m 1s/step - accuracy: 0.9980 - loss: 0.1693 - mse: 2.4846e-04\nEpoch 19: val_accuracy did not improve from 0.94638\n\nEpoch 19: ReduceLROnPlateau reducing learning rate to 9.999999747378752e-07.\n\u001b[1m356/356\u001b[0m \u001b[32m━━━━━━━━━━━━━━━━━━━━\u001b[0m\u001b[37m\u001b[0m \u001b[1m510s\u001b[0m 1s/step - accuracy: 0.9980 - loss: 0.1693 - mse: 2.4844e-04 - val_accuracy: 0.9443 - val_loss: 0.4572 - val_mse: 0.0063 - learning_rate: 1.0000e-05\nEpoch 20/25\n\u001b[1m356/356\u001b[0m \u001b[32m━━━━━━━━━━━━━━━━━━━━\u001b[0m\u001b[37m\u001b[0m \u001b[1m0s\u001b[0m 1s/step - accuracy: 0.9986 - loss: 0.1617 - mse: 1.4971e-04\nEpoch 20: val_accuracy did not improve from 0.94638\n\u001b[1m356/356\u001b[0m \u001b[32m━━━━━━━━━━━━━━━━━━━━\u001b[0m\u001b[37m\u001b[0m \u001b[1m509s\u001b[0m 1s/step - accuracy: 0.9987 - loss: 0.1617 - mse: 1.4967e-04 - val_accuracy: 0.9431 - val_loss: 0.4555 - val_mse: 0.0063 - learning_rate: 1.0000e-06\nEpoch 21/25\n\u001b[1m356/356\u001b[0m \u001b[32m━━━━━━━━━━━━━━━━━━━━\u001b[0m\u001b[37m\u001b[0m \u001b[1m0s\u001b[0m 1s/step - accuracy: 0.9979 - loss: 0.1648 - mse: 2.2694e-04\nEpoch 21: val_accuracy did not improve from 0.94638\n\u001b[1m356/356\u001b[0m \u001b[32m━━━━━━━━━━━━━━━━━━━━\u001b[0m\u001b[37m\u001b[0m \u001b[1m510s\u001b[0m 1s/step - accuracy: 0.9979 - loss: 0.1648 - mse: 2.2692e-04 - val_accuracy: 0.9431 - val_loss: 0.4564 - val_mse: 0.0063 - learning_rate: 1.0000e-06\nEpoch 22/25\n\u001b[1m356/356\u001b[0m \u001b[32m━━━━━━━━━━━━━━━━━━━━\u001b[0m\u001b[37m\u001b[0m \u001b[1m0s\u001b[0m 1s/step - accuracy: 0.9976 - loss: 0.1631 - mse: 2.4058e-04\nEpoch 22: val_accuracy did not improve from 0.94638\n\u001b[1m356/356\u001b[0m \u001b[32m━━━━━━━━━━━━━━━━━━━━\u001b[0m\u001b[37m\u001b[0m \u001b[1m508s\u001b[0m 1s/step - accuracy: 0.9976 - loss: 0.1631 - mse: 2.4059e-04 - val_accuracy: 0.9431 - val_loss: 0.4578 - val_mse: 0.0064 - learning_rate: 1.0000e-06\nEpoch 23/25\n\u001b[1m356/356\u001b[0m \u001b[32m━━━━━━━━━━━━━━━━━━━━\u001b[0m\u001b[37m\u001b[0m \u001b[1m0s\u001b[0m 1s/step - accuracy: 0.9985 - loss: 0.1620 - mse: 2.1566e-04\nEpoch 23: val_accuracy did not improve from 0.94638\n\nEpoch 23: ReduceLROnPlateau reducing learning rate to 9.999999974752428e-08.\n\u001b[1m356/356\u001b[0m \u001b[32m━━━━━━━━━━━━━━━━━━━━\u001b[0m\u001b[37m\u001b[0m \u001b[1m511s\u001b[0m 1s/step - accuracy: 0.9985 - loss: 0.1620 - mse: 2.1580e-04 - val_accuracy: 0.9431 - val_loss: 0.4547 - val_mse: 0.0063 - learning_rate: 1.0000e-06\nEpoch 23: early stopping\nPreprocessing completed. Time taken: 13688.339641571045 seconds\n",
          "output_type": "stream"
        }
      ]
    },
    {
      "cell_type": "code",
      "source": [
        "import IPython\n",
        "IPython.display.FileLink('DenseNet201_Modified_MHSimamCBAM_PBD.weights.h5')"
      ],
      "metadata": {
        "id": "cPekuk0rMirw",
        "outputId": "41ba3ad7-782e-404a-d8b5-320c392d681e",
        "execution": {
          "iopub.status.busy": "2024-08-15T18:25:59.594472Z",
          "iopub.execute_input": "2024-08-15T18:25:59.594838Z",
          "iopub.status.idle": "2024-08-15T18:25:59.601486Z",
          "shell.execute_reply.started": "2024-08-15T18:25:59.594812Z",
          "shell.execute_reply": "2024-08-15T18:25:59.600481Z"
        },
        "trusted": true
      },
      "execution_count": null,
      "outputs": [
        {
          "execution_count": 17,
          "output_type": "execute_result",
          "data": {
            "text/plain": "/kaggle/working/DenseNet201_Modified_MHSimamCBAM_PBD.weights.h5",
            "text/html": "<a href='DenseNet201_Modified_MHSimamCBAM_PBD.weights.h5' target='_blank'>DenseNet201_Modified_MHSimamCBAM_PBD.weights.h5</a><br>"
          },
          "metadata": {}
        }
      ]
    },
    {
      "cell_type": "code",
      "source": [
        "model1.load_weights(\"/kaggle/working/DenseNet201_Modified_MHSimamCBAM_PBD.weights.h5\")"
      ],
      "metadata": {
        "id": "6F-9JRJxMirx",
        "execution": {
          "iopub.status.busy": "2024-08-15T18:25:59.602604Z",
          "iopub.execute_input": "2024-08-15T18:25:59.602943Z",
          "iopub.status.idle": "2024-08-15T18:26:04.314094Z",
          "shell.execute_reply.started": "2024-08-15T18:25:59.602921Z",
          "shell.execute_reply": "2024-08-15T18:26:04.313066Z"
        },
        "trusted": true
      },
      "execution_count": null,
      "outputs": []
    },
    {
      "cell_type": "code",
      "source": [
        "test_result = model1.evaluate(test_generator)\n",
        "test_loss = test_result[0]\n",
        "test_accuracy = test_result[1]\n",
        "print('Test Loss:', test_loss)\n",
        "print('Test Accuracy:', test_accuracy)"
      ],
      "metadata": {
        "id": "XgWpypptMirx",
        "outputId": "af85c95d-b78b-439f-abef-201e63fa1651",
        "execution": {
          "iopub.status.busy": "2024-08-15T18:26:04.317267Z",
          "iopub.execute_input": "2024-08-15T18:26:04.317988Z",
          "iopub.status.idle": "2024-08-15T18:28:21.314190Z",
          "shell.execute_reply.started": "2024-08-15T18:26:04.317960Z",
          "shell.execute_reply": "2024-08-15T18:28:21.313202Z"
        },
        "trusted": true
      },
      "execution_count": null,
      "outputs": [
        {
          "name": "stdout",
          "text": "\u001b[1m153/153\u001b[0m \u001b[32m━━━━━━━━━━━━━━━━━━━━\u001b[0m\u001b[37m\u001b[0m \u001b[1m137s\u001b[0m 898ms/step - accuracy: 0.9363 - loss: 0.4740 - mse: 0.0068\nTest Loss: 0.447378545999527\nTest Accuracy: 0.9463773965835571\n",
          "output_type": "stream"
        }
      ]
    },
    {
      "cell_type": "code",
      "source": [
        "train_accuracy = history.history['accuracy']\n",
        "val_accuracy = history.history['val_accuracy']\n",
        "\n",
        "train_loss = history.history['loss']\n",
        "val_loss = history.history['val_loss']"
      ],
      "metadata": {
        "id": "4BTpH6ooMirx",
        "execution": {
          "iopub.status.busy": "2024-08-15T18:28:21.315382Z",
          "iopub.execute_input": "2024-08-15T18:28:21.315678Z",
          "iopub.status.idle": "2024-08-15T18:28:21.320639Z",
          "shell.execute_reply.started": "2024-08-15T18:28:21.315654Z",
          "shell.execute_reply": "2024-08-15T18:28:21.319592Z"
        },
        "trusted": true
      },
      "execution_count": null,
      "outputs": []
    },
    {
      "cell_type": "code",
      "source": [
        "import matplotlib.pyplot as plt\n",
        "\n",
        "# Your data and plot commands...\n",
        "\n",
        "plt.style.use('seaborn')  # Set a specific style, such as 'seaborn'\n",
        "\n",
        "fig, axs = plt.subplots(2, 2, figsize=(8, 8))  # Create a 2x2 subplot grid\n",
        "\n",
        "fig.patch.set_facecolor('#CCE5FF')  # Set light blue background color\n",
        "\n",
        "# First subplot\n",
        "axs[0, 0].set_title('Accuracy vs. Epochs', fontsize=14, fontweight='bold')\n",
        "axs[0, 0].plot(train_accuracy, label='Train Accuracy', linewidth=2)\n",
        "axs[0, 0].plot(val_accuracy, label='Test Accuracy', linewidth=2)\n",
        "axs[0, 0].set_xlabel('Epochs', fontsize=12)\n",
        "axs[0, 0].set_ylabel('Accuracy', fontsize=12)\n",
        "axs[0, 0].legend(loc='best', fontsize=10)\n",
        "axs[0, 0].tick_params(axis='both', which='major', labelsize=10)\n",
        "axs[0, 0].grid(True, linestyle='--', alpha=0.7)\n",
        "\n",
        "# Second subplot\n",
        "axs[0, 1].set_title('Loss vs. Epochs', fontsize=14, fontweight='bold')\n",
        "axs[0, 1].plot(train_loss, label='Train Loss', linewidth=2)\n",
        "axs[0, 1].plot(val_loss, label='Test Loss', linewidth=2)\n",
        "axs[0, 1].set_xlabel('Epochs', fontsize=12)\n",
        "axs[0, 1].set_ylabel('Loss', fontsize=12)\n",
        "axs[0, 1].legend(loc='best', fontsize=10)\n",
        "axs[0, 1].tick_params(axis='both', which='major', labelsize=10)\n",
        "axs[0, 1].grid(True, linestyle='--', alpha=0.7)\n",
        "\n",
        "# Additional customization or more subplots can be added here...\n",
        "\n",
        "plt.tight_layout()\n",
        "plt.show()"
      ],
      "metadata": {
        "id": "yYi3du1iMiry",
        "outputId": "384ee4d8-23f3-48da-bc14-650e2366610c",
        "execution": {
          "iopub.status.busy": "2024-08-15T18:28:21.321994Z",
          "iopub.execute_input": "2024-08-15T18:28:21.322406Z",
          "iopub.status.idle": "2024-08-15T18:28:22.197048Z",
          "shell.execute_reply.started": "2024-08-15T18:28:21.322374Z",
          "shell.execute_reply": "2024-08-15T18:28:22.196111Z"
        },
        "trusted": true
      },
      "execution_count": null,
      "outputs": [
        {
          "name": "stderr",
          "text": "/tmp/ipykernel_34/2395193759.py:5: MatplotlibDeprecationWarning: The seaborn styles shipped by Matplotlib are deprecated since 3.6, as they no longer correspond to the styles shipped by seaborn. However, they will remain available as 'seaborn-v0_8-<style>'. Alternatively, directly use the seaborn API instead.\n  plt.style.use('seaborn')  # Set a specific style, such as 'seaborn'\n",
          "output_type": "stream"
        },
        {
          "output_type": "display_data",
          "data": {
            "text/plain": "<Figure size 800x800 with 4 Axes>",
            "image/png": "[encoded data removed]"
          },
          "metadata": {}
        }
      ]
    },
    {
      "cell_type": "code",
      "source": [
        "train_class_names = sorted(list(train_generator.class_indices.keys()))\n",
        "\n",
        "test_class_names = sorted(list(test_generator.class_indices.keys()))\n",
        "\n",
        "assert train_class_names == test_class_names, \"Class names in train and test datasets don't match!\"\n",
        "\n",
        "labels = train_class_names"
      ],
      "metadata": {
        "id": "OjUVYd65Miry",
        "execution": {
          "iopub.status.busy": "2024-08-15T18:28:22.198260Z",
          "iopub.execute_input": "2024-08-15T18:28:22.198562Z",
          "iopub.status.idle": "2024-08-15T18:28:22.203602Z",
          "shell.execute_reply.started": "2024-08-15T18:28:22.198534Z",
          "shell.execute_reply": "2024-08-15T18:28:22.202670Z"
        },
        "trusted": true
      },
      "execution_count": null,
      "outputs": []
    },
    {
      "cell_type": "code",
      "source": [
        "# Assuming you have the ground truth labels for the test data in a variable called 'true_labels'\n",
        "true_labels = test_generator.classes\n",
        "\n",
        "# Generate predictions for the test data\n",
        "predictions = model1.predict(test_generator)\n",
        "predicted_labels = np.argmax(predictions, axis=1)\n",
        "\n",
        "# Define class labels (replace with your actual class names)\n",
        "labels = train_class_names  # Replace with your class names\n",
        "\n",
        "# Generate the confusion matrix\n",
        "cm = confusion_matrix(true_labels, predicted_labels)\n",
        "cmn = cm.astype('float') / cm.sum(axis=1)[:, np.newaxis]"
      ],
      "metadata": {
        "id": "IIvpMsuDMiry",
        "outputId": "3a719e17-1aca-43a4-90aa-15b09f968e61",
        "execution": {
          "iopub.status.busy": "2024-08-15T18:28:22.204869Z",
          "iopub.execute_input": "2024-08-15T18:28:22.205188Z",
          "iopub.status.idle": "2024-08-15T18:31:35.881136Z",
          "shell.execute_reply.started": "2024-08-15T18:28:22.205165Z",
          "shell.execute_reply": "2024-08-15T18:31:35.880121Z"
        },
        "trusted": true
      },
      "execution_count": null,
      "outputs": [
        {
          "name": "stdout",
          "text": "\u001b[1m  2/153\u001b[0m \u001b[37m━━━━━━━━━━━━━━━━━━━━\u001b[0m \u001b[1m18s\u001b[0m 121ms/step  ",
          "output_type": "stream"
        },
        {
          "name": "stderr",
          "text": "W0000 00:00:1723746535.602867     117 graph_launch.cc:671] Fallback to op-by-op mode because memset node breaks graph update\n",
          "output_type": "stream"
        },
        {
          "name": "stdout",
          "text": "\u001b[1m153/153\u001b[0m \u001b[32m━━━━━━━━━━━━━━━━━━━━\u001b[0m\u001b[37m\u001b[0m \u001b[1m193s\u001b[0m 1s/step\n",
          "output_type": "stream"
        }
      ]
    },
    {
      "cell_type": "code",
      "source": [
        "from sklearn.metrics import confusion_matrix, ConfusionMatrixDisplay\n",
        "\n",
        "#  the true labels and predicted labels for the validation dataset\n",
        "y_true = test_generator.classes\n",
        "y_pred = model1.predict(test_generator).argmax(axis=1)\n",
        "\n",
        "# Compute the confusion matrix\n",
        "cm = confusion_matrix(y_true, y_pred)"
      ],
      "metadata": {
        "id": "D5Qv-nuzMirz",
        "outputId": "37350e76-9b99-4a41-931f-75ea1ef6513b",
        "execution": {
          "iopub.status.busy": "2024-08-15T18:31:35.882283Z",
          "iopub.execute_input": "2024-08-15T18:31:35.882545Z",
          "iopub.status.idle": "2024-08-15T18:33:44.897888Z",
          "shell.execute_reply.started": "2024-08-15T18:31:35.882523Z",
          "shell.execute_reply": "2024-08-15T18:33:44.897094Z"
        },
        "trusted": true
      },
      "execution_count": null,
      "outputs": [
        {
          "name": "stdout",
          "text": "\u001b[1m153/153\u001b[0m \u001b[32m━━━━━━━━━━━━━━━━━━━━\u001b[0m\u001b[37m\u001b[0m \u001b[1m129s\u001b[0m 845ms/step\n",
          "output_type": "stream"
        }
      ]
    },
    {
      "cell_type": "code",
      "source": [
        "from sklearn.metrics import roc_curve, auc\n",
        "import numpy as np\n",
        "import matplotlib.pyplot as plt\n",
        "\n",
        "# Assuming you have predicted probabilities and true labels for multi-class classification\n",
        "true_labels = test_generator.classes\n",
        "predictions = model1.predict(test_generator)\n",
        "\n",
        "# Get the number of classes\n",
        "num_classes = len(np.unique(true_labels))\n",
        "\n",
        "# Initialize variables to store fpr and tpr for each class\n",
        "fpr = dict()\n",
        "tpr = dict()\n",
        "roc_auc = dict()\n",
        "\n",
        "for i in range(num_classes):\n",
        "    # Convert true labels to binary format (0 or 1) for the current class\n",
        "    binary_true_labels = np.where(true_labels == i, 1, 0)\n",
        "\n",
        "    # Compute ROC curve and ROC AUC for the current class\n",
        "    fpr[i], tpr[i], _ = roc_curve(binary_true_labels, predictions[:, i])\n",
        "    roc_auc[i] = auc(fpr[i], tpr[i])\n",
        "\n",
        "# Compute the class weights based on the number of true instances for each class\n",
        "class_counts = np.bincount(true_labels)\n",
        "class_weights = class_counts / float(len(true_labels))\n",
        "\n",
        "# Calculate the weighted average ROC-AUC across classes\n",
        "weighted_roc_auc = np.average(list(roc_auc.values()), weights=class_weights)"
      ],
      "metadata": {
        "id": "Rx4nD_lDMirz",
        "outputId": "5664047c-b65a-4d6d-af2d-25842ed01323",
        "execution": {
          "iopub.status.busy": "2024-08-15T18:33:44.898903Z",
          "iopub.execute_input": "2024-08-15T18:33:44.899145Z",
          "iopub.status.idle": "2024-08-15T18:35:52.490418Z",
          "shell.execute_reply.started": "2024-08-15T18:33:44.899124Z",
          "shell.execute_reply": "2024-08-15T18:35:52.489589Z"
        },
        "trusted": true
      },
      "execution_count": null,
      "outputs": [
        {
          "name": "stdout",
          "text": "\u001b[1m153/153\u001b[0m \u001b[32m━━━━━━━━━━━━━━━━━━━━\u001b[0m\u001b[37m\u001b[0m \u001b[1m127s\u001b[0m 836ms/step\n",
          "output_type": "stream"
        }
      ]
    },
    {
      "cell_type": "code",
      "source": [
        "print(f\"Weighted Average ROC-AUC: {weighted_roc_auc:.4f}\")"
      ],
      "metadata": {
        "id": "2ae2yKJQMirz",
        "outputId": "f64b21db-73e6-4803-c2b2-e0d7180b621e",
        "execution": {
          "iopub.status.busy": "2024-08-15T18:35:52.491536Z",
          "iopub.execute_input": "2024-08-15T18:35:52.491845Z",
          "iopub.status.idle": "2024-08-15T18:35:52.497157Z",
          "shell.execute_reply.started": "2024-08-15T18:35:52.491820Z",
          "shell.execute_reply": "2024-08-15T18:35:52.496132Z"
        },
        "trusted": true
      },
      "execution_count": null,
      "outputs": [
        {
          "name": "stdout",
          "text": "Weighted Average ROC-AUC: 0.9962\n",
          "output_type": "stream"
        }
      ]
    },
    {
      "cell_type": "code",
      "source": [
        "from sklearn.manifold import TSNE\n",
        "import matplotlib.pyplot as plt\n",
        "\n",
        "# Assuming you have predicted probabilities and true labels for multi-class classification\n",
        "true_labels = test_generator.classes\n",
        "predictions = model1.predict(test_generator)\n",
        "\n",
        "# Perform t-SNE dimensionality reduction on predicted probabilities\n",
        "tsne = TSNE(n_components=2, random_state=42)\n",
        "predicted_tsne = tsne.fit_transform(predictions)\n",
        "\n",
        "# Plot t-SNE visualization\n",
        "plt.figure(figsize=(8, 6))\n",
        "plt.scatter(predicted_tsne[:, 0], predicted_tsne[:, 1], c=true_labels, cmap='viridis')\n",
        "plt.colorbar(label='Classes')\n",
        "plt.title('t-SNE Visualization of Predicted Probabilities')\n",
        "plt.grid(True)\n",
        "plt.show()\n"
      ],
      "metadata": {
        "id": "j8a-MyHlMir0",
        "outputId": "5132dcb8-77db-4519-8b91-1eba404ac048",
        "execution": {
          "iopub.status.busy": "2024-08-15T18:35:52.498387Z",
          "iopub.execute_input": "2024-08-15T18:35:52.498694Z",
          "iopub.status.idle": "2024-08-15T18:38:10.201941Z",
          "shell.execute_reply.started": "2024-08-15T18:35:52.498645Z",
          "shell.execute_reply": "2024-08-15T18:38:10.200987Z"
        },
        "trusted": true
      },
      "execution_count": null,
      "outputs": [
        {
          "name": "stdout",
          "text": "\u001b[1m153/153\u001b[0m \u001b[32m━━━━━━━━━━━━━━━━━━━━\u001b[0m\u001b[37m\u001b[0m \u001b[1m127s\u001b[0m 833ms/step\n",
          "output_type": "stream"
        },
        {
          "output_type": "display_data",
          "data": {
            "text/plain": "<Figure size 800x600 with 2 Axes>",
            "image/png": "[encoded data removed]"
          },
          "metadata": {}
        }
      ]
    },
    {
      "cell_type": "code",
      "source": [
        "# Generate the classification report\n",
        "report = classification_report(true_labels, predicted_labels)\n",
        "\n",
        "print(\"Confusion Matrix:\")\n",
        "print(cm)"
      ],
      "metadata": {
        "id": "957NU3y8Mir0",
        "outputId": "6e020c0e-e60f-445b-d823-21ea134d7aab",
        "execution": {
          "iopub.status.busy": "2024-08-15T18:38:10.203354Z",
          "iopub.execute_input": "2024-08-15T18:38:10.203793Z",
          "iopub.status.idle": "2024-08-15T18:38:10.222276Z",
          "shell.execute_reply.started": "2024-08-15T18:38:10.203755Z",
          "shell.execute_reply": "2024-08-15T18:38:10.221440Z"
        },
        "trusted": true
      },
      "execution_count": null,
      "outputs": [
        {
          "name": "stdout",
          "text": "Confusion Matrix:\n[[189  10   4   1   0   1   1   0   0   0   1   1   0   4   0]\n [  2 258   0   0   0   0   0   0   0   0   0   0   0   0   0]\n [  0   0 177   0   0   0   0   0   6   0   0   0   0   0   0]\n [  0   0   0 124   0   0   6   0   0   1   0   0   5   0   0]\n [  3   1   2   5 190   0   0   0   0   0   0   0   9   1   1]\n [  0   0   0   0   0 160   0   0   0   0   0   0   0   0   0]\n [  0   0   0   0   0   1 182   0   0   0   0   0   0   0   2]\n [  1   0   0   4   0   0   0  65   0   0   4   0   0   2   0]\n [  0   0  14   0   0   0   0   0 184   0   0   0   0   0   0]\n [  0   0   0   0   0   4   6   0   0  47   1   0   8   0   0]\n [  0   0   0   0   0   0   2   0   0   1 142   0   0   3   0]\n [  0   0   0   0   0   0   0   0   0   0   0 132   0   0   0]\n [  0   0   4   0   0   0   0   0   0   0   0   0 216   0   0]\n [  1   0   0   0   0   0   0   0   0   0   5   0   0 178   1]\n [  0   0   0   0   0   0   0   0   0   0   2   0   0   0  68]]\n",
          "output_type": "stream"
        }
      ]
    },
    {
      "cell_type": "code",
      "source": [
        "print(\"Classification Report:\")\n",
        "print(report)"
      ],
      "metadata": {
        "id": "EPGECBxnMir0",
        "outputId": "a412fefd-11d2-4261-ddeb-92ece0ddbcdc",
        "execution": {
          "iopub.status.busy": "2024-08-15T18:38:10.226530Z",
          "iopub.execute_input": "2024-08-15T18:38:10.226803Z",
          "iopub.status.idle": "2024-08-15T18:38:10.231292Z",
          "shell.execute_reply.started": "2024-08-15T18:38:10.226781Z",
          "shell.execute_reply": "2024-08-15T18:38:10.230385Z"
        },
        "trusted": true
      },
      "execution_count": null,
      "outputs": [
        {
          "name": "stdout",
          "text": "Classification Report:\n              precision    recall  f1-score   support\n\n           0       0.96      0.89      0.93       212\n           1       0.96      0.99      0.98       260\n           2       0.88      0.97      0.92       183\n           3       0.93      0.91      0.92       136\n           4       1.00      0.90      0.95       212\n           5       0.96      1.00      0.98       160\n           6       0.92      0.98      0.95       185\n           7       1.00      0.86      0.92        76\n           8       0.97      0.93      0.95       198\n           9       0.96      0.71      0.82        66\n          10       0.92      0.96      0.94       148\n          11       0.99      1.00      1.00       132\n          12       0.91      0.98      0.94       220\n          13       0.95      0.96      0.95       185\n          14       0.94      0.97      0.96        70\n\n    accuracy                           0.95      2443\n   macro avg       0.95      0.93      0.94      2443\nweighted avg       0.95      0.95      0.95      2443\n\n",
          "output_type": "stream"
        }
      ]
    },
    {
      "cell_type": "code",
      "source": [
        "# Extracting metrics using classification_report\n",
        "metrics = classification_report(true_labels, predicted_labels, output_dict=True)"
      ],
      "metadata": {
        "execution": {
          "iopub.status.busy": "2024-08-15T18:38:10.232368Z",
          "iopub.execute_input": "2024-08-15T18:38:10.232613Z",
          "iopub.status.idle": "2024-08-15T18:38:10.247606Z",
          "shell.execute_reply.started": "2024-08-15T18:38:10.232592Z",
          "shell.execute_reply": "2024-08-15T18:38:10.246925Z"
        },
        "trusted": true,
        "id": "ZRMNw6pGvst9"
      },
      "execution_count": null,
      "outputs": []
    },
    {
      "cell_type": "code",
      "source": [
        "# Calculate average metrics for all classes\n",
        "avg_precision = metrics['weighted avg']['precision']\n",
        "avg_recall = metrics['weighted avg']['recall']\n",
        "avg_f1_score = metrics['weighted avg']['f1-score']\n",
        "\n",
        "print(\"Average Precision:\", avg_precision)\n",
        "print(\"Average Recall:\", avg_recall)\n",
        "print(\"Average F1-Score:\", avg_f1_score)"
      ],
      "metadata": {
        "execution": {
          "iopub.status.busy": "2024-08-15T18:38:10.248541Z",
          "iopub.execute_input": "2024-08-15T18:38:10.248823Z",
          "iopub.status.idle": "2024-08-15T18:38:10.254305Z",
          "shell.execute_reply.started": "2024-08-15T18:38:10.248792Z",
          "shell.execute_reply": "2024-08-15T18:38:10.253473Z"
        },
        "trusted": true,
        "id": "tfmsVtwzvst9",
        "outputId": "9ba20210-2e48-422f-986c-b74ac1da9147"
      },
      "execution_count": null,
      "outputs": [
        {
          "name": "stdout",
          "text": "Average Precision: 0.9482234268475718\nAverage Recall: 0.9463774048301269\nAverage F1-Score: 0.945777895141781\n",
          "output_type": "stream"
        }
      ]
    },
    {
      "cell_type": "code",
      "source": [],
      "metadata": {
        "id": "IFaHb9e0vst_"
      },
      "execution_count": null,
      "outputs": []
    }
  ]
}